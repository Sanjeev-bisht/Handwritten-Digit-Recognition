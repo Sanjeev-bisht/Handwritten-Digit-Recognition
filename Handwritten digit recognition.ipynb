{
 "cells": [
  {
   "cell_type": "code",
   "execution_count": 1,
   "id": "34e777da",
   "metadata": {},
   "outputs": [],
   "source": [
    "import pyscreenshot as ImageGrab\n",
    "import time\n"
   ]
  },
  {
   "cell_type": "code",
   "execution_count": 2,
   "id": "7a745590",
   "metadata": {},
   "outputs": [
    {
     "name": "stdout",
     "output_type": "stream",
     "text": [
      "saved...... 0\n",
      "clear screen now and redraw now........\n",
      "saved...... 1\n",
      "clear screen now and redraw now........\n",
      "saved...... 2\n",
      "clear screen now and redraw now........\n",
      "saved...... 3\n",
      "clear screen now and redraw now........\n",
      "saved...... 4\n",
      "clear screen now and redraw now........\n"
     ]
    }
   ],
   "source": [
    "images_folder=\"captured_images/0/\"\n",
    "  \n",
    "for i in range(0,5):\n",
    "   time.sleep(5)\n",
    "   im=ImageGrab.grab(bbox=(60,170,400,550)) #x1,y1,x2,y2\n",
    "   print(\"saved......\",i)\n",
    "   im.save(images_folder+str(i)+'.png')\n",
    "   print(\"clear screen now and redraw now........\")\n"
   ]
  },
  {
   "cell_type": "markdown",
   "id": "7d506a1e",
   "metadata": {},
   "source": [
    "Generate dataset\n"
   ]
  },
  {
   "cell_type": "code",
   "execution_count": 3,
   "id": "d731ff35",
   "metadata": {},
   "outputs": [
    {
     "name": "stdout",
     "output_type": "stream",
     "text": [
      "Requirement already satisfied: opencv-python in c:\\users\\hp\\anaconda4\\lib\\site-packages (4.8.1.78)\n",
      "Requirement already satisfied: numpy>=1.21.2 in c:\\users\\hp\\anaconda4\\lib\\site-packages (from opencv-python) (1.24.3)\n",
      "Note: you may need to restart the kernel to use updated packages.\n"
     ]
    }
   ],
   "source": [
    "pip install opencv-python"
   ]
  },
  {
   "cell_type": "code",
   "execution_count": 4,
   "id": "3eb0ad60",
   "metadata": {},
   "outputs": [],
   "source": [
    "#pip install pandas\n"
   ]
  },
  {
   "cell_type": "code",
   "execution_count": 5,
   "id": "03fb3e9b",
   "metadata": {},
   "outputs": [],
   "source": [
    "#pip install scikit-learn"
   ]
  },
  {
   "cell_type": "code",
   "execution_count": 6,
   "id": "4f837b14",
   "metadata": {},
   "outputs": [],
   "source": [
    "import cv2\n",
    "import csv\n",
    "import glob"
   ]
  },
  {
   "cell_type": "code",
   "execution_count": 7,
   "id": "4f927587",
   "metadata": {},
   "outputs": [],
   "source": [
    "header  =[\"label\"]\n",
    "for i in range(0,784):\n",
    "   header.append(\"pixel\"+str(i))\n",
    "with open('dataset.csv', 'a') as f:\n",
    "   writer = csv.writer(f)\n",
    "   writer.writerow(header)\n",
    "    \n",
    "for label in range(10):\n",
    "   dirList = glob.glob(\"captured_images/\"+str(label)+\"/*.png\")\n",
    "    \n",
    "   for img_path in dirList:\n",
    "       im= cv2.imread(img_path)\n",
    "       im_gray = cv2.cvtColor(im,cv2.COLOR_BGR2GRAY)\n",
    "       im_gray = cv2.GaussianBlur(im_gray,(15,15), 0)\n",
    "       roi= cv2.resize(im_gray,(28,28), interpolation=cv2.INTER_AREA)\n",
    "        \n",
    "       data=[]\n",
    "       data.append(label)\n",
    "       rows, cols = roi.shape\n",
    "        \n",
    "       ## Fill the data array with pixels one by one.\n",
    "       for i in range(rows):\n",
    "           for j in range(cols):\n",
    "               k =roi[i,j]\n",
    "               if k>100:\n",
    "                   k=1\n",
    "               else:\n",
    "                   k=0\n",
    "               data.append(k)\n",
    "       with open('dataset.csv', 'a') as f:\n",
    "           writer = csv.writer(f)\n",
    "           writer.writerow(data)\n",
    "        \n"
   ]
  },
  {
   "cell_type": "markdown",
   "id": "76fa0b5c",
   "metadata": {},
   "source": [
    "# Load the dataset\n"
   ]
  },
  {
   "cell_type": "code",
   "execution_count": 8,
   "id": "53d66293",
   "metadata": {},
   "outputs": [
    {
     "name": "stdout",
     "output_type": "stream",
     "text": [
      "     label  pixel0  pixel1  pixel2  pixel3  pixel4  pixel5  pixel6  pixel7  \\\n",
      "103      1       1       1       0       0       0       0       0       0   \n",
      "254      3       1       1       1       0       0       1       1       1   \n",
      "764      8       1       1       1       1       0       0       0       1   \n",
      "185      2       1       1       1       0       0       1       1       1   \n",
      "60       0       1       1       1       1       0       0       0       0   \n",
      "..     ...     ...     ...     ...     ...     ...     ...     ...     ...   \n",
      "143      1       1       1       0       0       0       0       1       1   \n",
      "865      9       1       1       1       1       0       1       1       0   \n",
      "88       1       1       1       0       0       0       1       0       0   \n",
      "280      3       1       1       1       0       0       1       1       0   \n",
      "98       1       1       1       0       0       0       0       0       0   \n",
      "\n",
      "     pixel8  ...  pixel774  pixel775  pixel776  pixel777  pixel778  pixel779  \\\n",
      "103       0  ...         1         1         1         1         1         1   \n",
      "254       1  ...         0         0         0         0         0         0   \n",
      "764       1  ...         0         0         0         0         0         0   \n",
      "185       1  ...         0         0         0         0         0         0   \n",
      "60        0  ...         0         0         0         0         0         0   \n",
      "..      ...  ...       ...       ...       ...       ...       ...       ...   \n",
      "143       0  ...         1         1         1         1         1         1   \n",
      "865       0  ...         0         0         0         0         0         0   \n",
      "88        0  ...         1         1         1         1         1         1   \n",
      "280       0  ...         0         0         0         0         0         0   \n",
      "98        0  ...         1         1         1         1         1         1   \n",
      "\n",
      "     pixel780  pixel781  pixel782  pixel783  \n",
      "103         1         1         1         1  \n",
      "254         0         0         0         0  \n",
      "764         0         0         0         0  \n",
      "185         0         0         0         0  \n",
      "60          0         0         0         0  \n",
      "..        ...       ...       ...       ...  \n",
      "143         1         1         1         1  \n",
      "865         0         0         0         0  \n",
      "88          1         1         1         1  \n",
      "280         0         0         0         0  \n",
      "98          1         1         1         1  \n",
      "\n",
      "[913 rows x 785 columns]\n"
     ]
    }
   ],
   "source": [
    "import pandas as pd #pip install pandas\n",
    "from sklearn.utils import shuffle #pip install scikit-learn\n",
    "#0,....,1.....,2.....\n",
    "#5,3,1,0,2,5,.......\n",
    " \n",
    "data = pd.read_csv('dataset.csv')\n",
    "data = shuffle(data)\n",
    "print(data)"
   ]
  },
  {
   "cell_type": "markdown",
   "id": "b78dd237",
   "metadata": {},
   "source": [
    "# seperation of dependent and independent variable"
   ]
  },
  {
   "cell_type": "code",
   "execution_count": 9,
   "id": "ec3c7e37",
   "metadata": {},
   "outputs": [],
   "source": [
    "X = data.drop([\"label\"],axis=1)\n",
    "Y= data[\"label\"]"
   ]
  },
  {
   "cell_type": "markdown",
   "id": "36dc21c8",
   "metadata": {},
   "source": [
    "# Preview of one image using matplotlib"
   ]
  },
  {
   "cell_type": "code",
   "execution_count": 10,
   "id": "2c7d9516",
   "metadata": {},
   "outputs": [
    {
     "name": "stdout",
     "output_type": "stream",
     "text": [
      "2\n"
     ]
    },
    {
     "data": {
      "text/plain": [
       "<matplotlib.image.AxesImage at 0x268b1fb2fd0>"
      ]
     },
     "execution_count": 10,
     "metadata": {},
     "output_type": "execute_result"
    },
    {
     "data": {
      "image/png": "[encoded data removed]",
      "text/plain": [
       "<Figure size 640x480 with 1 Axes>"
      ]
     },
     "metadata": {},
     "output_type": "display_data"
    }
   ],
   "source": [
    "%matplotlib inline\n",
    "import matplotlib.pyplot as plt\n",
    "import cv2\n",
    "idx = 170\n",
    "img = X.loc[idx].values.reshape(28,28)\n",
    "print(Y[idx])\n",
    "plt.imshow(img)"
   ]
  },
  {
   "cell_type": "markdown",
   "id": "0de8e3f3",
   "metadata": {},
   "source": [
    "# Train-Test split"
   ]
  },
  {
   "cell_type": "code",
   "execution_count": 11,
   "id": "a5aa9c13",
   "metadata": {},
   "outputs": [],
   "source": [
    "from sklearn.model_selection import train_test_split\n",
    "train_x,test_x,train_y,test_y = train_test_split(X,Y, test_size = 0.2)"
   ]
  },
  {
   "cell_type": "markdown",
   "id": "d295b17a",
   "metadata": {},
   "source": [
    "# Fit the model using svc and also save the model using joblib"
   ]
  },
  {
   "cell_type": "code",
   "execution_count": null,
   "id": "efd6e411",
   "metadata": {},
   "outputs": [],
   "source": []
  }
 ],
 "metadata": {
  "kernelspec": {
   "display_name": "Python 3 (ipykernel)",
   "language": "python",
   "name": "python3"
  },
  "language_info": {
   "codemirror_mode": {
    "name": "ipython",
    "version": 3
   },
   "file_extension": ".py",
   "mimetype": "text/x-python",
   "name": "python",
   "nbconvert_exporter": "python",
   "pygments_lexer": "ipython3",
   "version": "3.11.5"
  }
 },
 "nbformat": 4,
 "nbformat_minor": 5
}
